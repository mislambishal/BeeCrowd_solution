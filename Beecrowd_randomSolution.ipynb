{
  "nbformat": 4,
  "nbformat_minor": 0,
  "metadata": {
    "colab": {
      "provenance": []
    },
    "kernelspec": {
      "name": "python3",
      "display_name": "Python 3"
    },
    "language_info": {
      "name": "python"
    }
  },
  "cells": [
    {
      "cell_type": "markdown",
      "source": [
        "#1244(BEECROWD)"
      ],
      "metadata": {
        "id": "JBzM9g4WGHft"
      }
    },
    {
      "cell_type": "code",
      "execution_count": null,
      "metadata": {
        "colab": {
          "base_uri": "https://localhost:8080/"
        },
        "id": "s1Eo5OJFGEbJ",
        "outputId": "bbd8e05b-9889-4ffa-e060-b1de8357d8ac"
      },
      "outputs": [
        {
          "output_type": "stream",
          "name": "stdout",
          "text": [
            "enter the following number: 4\n",
            "Top Coder comp Wedn at midnight\n",
            "midnight Coder comp Wedn Top at\n",
            "one three five\n",
            "three five one\n",
            "I love Cpp\n",
            "love Cpp I\n",
            "sj a sa df r e w f d s a v c x z sd fd\n",
            "sj sa df sd fd a r e w f d s a v c x z\n"
          ]
        }
      ],
      "source": [
        "number = int(input('enter the following number: '))\n",
        "\n",
        "list1 = ''\n",
        "\n",
        "for i in range(number):\n",
        "    string1 = input().split()\n",
        "    #print(string1)\n",
        "    length1 = len(string1)\n",
        "    #print(length1)\n",
        "    #print(sorted(string1, key=len, reverse = True))\n",
        "    mydocu = ' '.join(map(str,(sorted(string1, key=len, reverse = True))))\n",
        "    print(mydocu)"
      ]
    },
    {
      "cell_type": "markdown",
      "source": [
        "#1259(BEECROWD)"
      ],
      "metadata": {
        "id": "pQl9XTnQYUGf"
      }
    },
    {
      "cell_type": "code",
      "source": [
        "number = int(input())\n",
        "\n",
        "list1 = []\n",
        "\n",
        "list2 = []\n",
        "\n",
        "for i in range(number):\n",
        "    num = int(input())\n",
        "    if num%2==0:\n",
        "        list1.append(num)\n",
        "    else:\n",
        "        list2.append(num)\n",
        "\n",
        "list1 = sorted(list1)\n",
        "list2 = sorted(list2, reverse = True)\n",
        "\n",
        "for i in range(len(list1)):\n",
        "    print(list1[i])\n",
        "\n",
        "for i in range(len(list2)):\n",
        "    print(list2[i])"
      ],
      "metadata": {
        "id": "BWjB_PaNYTm6",
        "colab": {
          "base_uri": "https://localhost:8080/"
        },
        "outputId": "22709ca0-b2e3-4e89-baa7-31bcaa48190d"
      },
      "execution_count": null,
      "outputs": [
        {
          "output_type": "stream",
          "name": "stdout",
          "text": [
            "10\n",
            "4\n",
            "32\n",
            "34\n",
            "543\n",
            "3456\n",
            "654\n",
            "567\n",
            "87\n",
            "6789\n",
            "98\n",
            "4\n",
            "32\n",
            "34\n",
            "98\n",
            "654\n",
            "3456\n",
            "6789\n",
            "567\n",
            "543\n",
            "87\n"
          ]
        }
      ]
    },
    {
      "cell_type": "markdown",
      "source": [
        "#1238(BEECROWD)"
      ],
      "metadata": {
        "id": "8wMzPJnj_wdm"
      }
    },
    {
      "cell_type": "code",
      "source": [
        "number = int(input())\n",
        "\n",
        "for i in range(number):\n",
        "    var1 = input().split()\n",
        "    #print(var1)\n",
        "    strng1 = var1[0]\n",
        "    strng2 = var1[1]\n",
        "    #print(strng1)\n",
        "    #print(strng2)\n",
        "    count_strng1 = 0 \n",
        "    count_strng2 = 0\n",
        "    main = []\n",
        "    length = len(strng1)+len(strng2)\n",
        "    #print(length)\n",
        "    for k in range(length):\n",
        "        if k%2 ==0 and count_strng1<len(strng1):\n",
        "            main.append(strng1[count_strng1])\n",
        "            count_strng1 += 1\n",
        "        #print(main)\n",
        "        elif k%2 ==1 and count_strng2<len(strng2):\n",
        "            main.append(strng2[count_strng2])\n",
        "            count_strng2 += 1\n",
        "        #print(main)\n",
        "        elif count_strng1 == len(strng1):\n",
        "            main.append(strng2[count_strng2])\n",
        "            count_strng2 +=1\n",
        "        elif count_strng2 == len(strng2):\n",
        "            main.append(strng1[count_strng1])\n",
        "        #print(main)\n",
        "    \n",
        "    for messi in main:\n",
        "        print(messi, end = '')\n",
        "    print()"
      ],
      "metadata": {
        "colab": {
          "base_uri": "https://localhost:8080/"
        },
        "id": "Qj78GvnX_1MY",
        "outputId": "dcc393cb-a297-4e2e-c035-9c4bb659e956"
      },
      "execution_count": 19,
      "outputs": [
        {
          "output_type": "stream",
          "name": "stdout",
          "text": [
            "2\n",
            "Tpo oCder\n",
            "TopCoder\n",
            "aa bb\n",
            "abab\n"
          ]
        }
      ]
    },
    {
      "cell_type": "markdown",
      "source": [
        "#3103"
      ],
      "metadata": {
        "id": "H5MM57A1VDtG"
      }
    },
    {
      "cell_type": "code",
      "source": [],
      "metadata": {
        "id": "Lgcdvpw2G30M"
      },
      "execution_count": null,
      "outputs": []
    }
  ]
}