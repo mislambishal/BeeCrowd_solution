{
  "nbformat": 4,
  "nbformat_minor": 0,
  "metadata": {
    "colab": {
      "provenance": [],
      "authorship_tag": "ABX9TyOK3++GVGRrO4BOpVyTCQeR",
      "include_colab_link": true
    },
    "kernelspec": {
      "name": "python3",
      "display_name": "Python 3"
    },
    "language_info": {
      "name": "python"
    }
  },
  "cells": [
    {
      "cell_type": "markdown",
      "metadata": {
        "id": "view-in-github",
        "colab_type": "text"
      },
      "source": [
        "<a href=\"https://colab.research.google.com/github/mohai-menul-islam-bishal/BeeCrowd_solution/blob/main/Beecrowd_randomSolution.ipynb\" target=\"_parent\"><img src=\"https://colab.research.google.com/assets/colab-badge.svg\" alt=\"Open In Colab\"/></a>"
      ]
    },
    {
      "cell_type": "markdown",
      "source": [
        "#1244(BEECROWD)"
      ],
      "metadata": {
        "id": "JBzM9g4WGHft"
      }
    },
    {
      "cell_type": "code",
      "execution_count": null,
      "metadata": {
        "colab": {
          "base_uri": "https://localhost:8080/"
        },
        "id": "s1Eo5OJFGEbJ",
        "outputId": "bbd8e05b-9889-4ffa-e060-b1de8357d8ac"
      },
      "outputs": [
        {
          "output_type": "stream",
          "name": "stdout",
          "text": [
            "enter the following number: 4\n",
            "Top Coder comp Wedn at midnight\n",
            "midnight Coder comp Wedn Top at\n",
            "one three five\n",
            "three five one\n",
            "I love Cpp\n",
            "love Cpp I\n",
            "sj a sa df r e w f d s a v c x z sd fd\n",
            "sj sa df sd fd a r e w f d s a v c x z\n"
          ]
        }
      ],
      "source": [
        "number = int(input('enter the following number: '))\n",
        "\n",
        "list1 = ''\n",
        "\n",
        "for i in range(number):\n",
        "    string1 = input().split()\n",
        "    #print(string1)\n",
        "    length1 = len(string1)\n",
        "    #print(length1)\n",
        "    #print(sorted(string1, key=len, reverse = True))\n",
        "    mydocu = ' '.join(map(str,(sorted(string1, key=len, reverse = True))))\n",
        "    print(mydocu)"
      ]
    },
    {
      "cell_type": "markdown",
      "source": [
        "#1259(BEECROWD)"
      ],
      "metadata": {
        "id": "pQl9XTnQYUGf"
      }
    },
    {
      "cell_type": "code",
      "source": [
        "number = int(input())\n",
        "\n",
        "list1 = []\n",
        "\n",
        "list2 = []\n",
        "\n",
        "for i in range(number):\n",
        "    num = int(input())\n",
        "    if num%2==0:\n",
        "        list1.append(num)\n",
        "    else:\n",
        "        list2.append(num)\n",
        "\n",
        "list1 = sorted(list1)\n",
        "list2 = sorted(list2, reverse = True)\n",
        "\n",
        "for i in range(len(list1)):\n",
        "    print(list1[i])\n",
        "\n",
        "for i in range(len(list2)):\n",
        "    print(list2[i])"
      ],
      "metadata": {
        "id": "BWjB_PaNYTm6",
        "colab": {
          "base_uri": "https://localhost:8080/"
        },
        "outputId": "22709ca0-b2e3-4e89-baa7-31bcaa48190d"
      },
      "execution_count": null,
      "outputs": [
        {
          "output_type": "stream",
          "name": "stdout",
          "text": [
            "10\n",
            "4\n",
            "32\n",
            "34\n",
            "543\n",
            "3456\n",
            "654\n",
            "567\n",
            "87\n",
            "6789\n",
            "98\n",
            "4\n",
            "32\n",
            "34\n",
            "98\n",
            "654\n",
            "3456\n",
            "6789\n",
            "567\n",
            "543\n",
            "87\n"
          ]
        }
      ]
    },
    {
      "cell_type": "markdown",
      "source": [
        "#1238(BEECROWD)"
      ],
      "metadata": {
        "id": "8wMzPJnj_wdm"
      }
    },
    {
      "cell_type": "code",
      "source": [
        "number = int(input())\n",
        "\n",
        "for i in range(number):\n",
        "    var1 = input().split()\n",
        "    #print(var1)\n",
        "    strng1 = var1[0]\n",
        "    strng2 = var1[1]\n",
        "    #print(strng1)\n",
        "    #print(strng2)\n",
        "    count_strng1 = 0 \n",
        "    count_strng2 = 0\n",
        "    main = []\n",
        "    length = len(strng1)+len(strng2)\n",
        "    #print(length)\n",
        "    for k in range(length):\n",
        "        if k%2 ==0 and count_strng1<len(strng1):\n",
        "            main.append(strng1[count_strng1])\n",
        "            count_strng1 += 1\n",
        "        #print(main)\n",
        "        elif k%2 ==1 and count_strng2<len(strng2):\n",
        "            main.append(strng2[count_strng2])\n",
        "            count_strng2 += 1\n",
        "        #print(main)\n",
        "        elif count_strng1 == len(strng1):\n",
        "            main.append(strng2[count_strng2])\n",
        "            count_strng2 +=1\n",
        "        elif count_strng2 == len(strng2):\n",
        "            main.append(strng1[count_strng1])\n",
        "        #print(main)\n",
        "    \n",
        "    for messi in main:\n",
        "        print(messi, end = '')\n",
        "    print()"
      ],
      "metadata": {
        "colab": {
          "base_uri": "https://localhost:8080/"
        },
        "id": "Qj78GvnX_1MY",
        "outputId": "dcc393cb-a297-4e2e-c035-9c4bb659e956"
      },
      "execution_count": 19,
      "outputs": [
        {
          "output_type": "stream",
          "name": "stdout",
          "text": [
            "2\n",
            "Tpo oCder\n",
            "TopCoder\n",
            "aa bb\n",
            "abab\n"
          ]
        }
      ]
    },
    {
      "cell_type": "markdown",
      "source": [
        "#3103(BEECROWD)"
      ],
      "metadata": {
        "id": "H5MM57A1VDtG"
      }
    },
    {
      "cell_type": "code",
      "source": [
        "number = int(input())\n",
        "for i in range(number):\n",
        "    num = input()\n",
        "    if '0' in num:\n",
        "        main = 9\n",
        "        value = ''\n",
        "        for i in num:\n",
        "            if i != '0' and i.isdigit():\n",
        "                if int(i) < main:\n",
        "                    main = int(i)\n",
        "        count = 1\n",
        "        value += str(main)\n",
        "        for j in sorted(num):\n",
        "            if j == str(main) and count == 1:\n",
        "                count=count-1\n",
        "            else:\n",
        "                if j.isdigit():\n",
        "                    value += j\n",
        "        print(value)\n",
        "    else:\n",
        "        value = ''\n",
        "        for i in sorted(num):\n",
        "            value += i\n",
        "        print(value)\n",
        "\n"
      ],
      "metadata": {
        "colab": {
          "base_uri": "https://localhost:8080/"
        },
        "id": "Lgcdvpw2G30M",
        "outputId": "8012704f-acdb-4c6f-92e3-f3d5c25d9812"
      },
      "execution_count": 7,
      "outputs": [
        {
          "output_type": "stream",
          "name": "stdout",
          "text": [
            "3\n",
            "548451\n",
            "144558\n",
            "95480009694\n",
            "40004568999\n",
            "51809580050\n",
            "10000555889\n"
          ]
        }
      ]
    },
    {
      "cell_type": "markdown",
      "source": [
        "#1287(BEECROWD)"
      ],
      "metadata": {
        "id": "9n6h5jhmetIy"
      }
    },
    {
      "cell_type": "code",
      "source": [],
      "metadata": {
        "id": "wnOhZbUjgpbP"
      },
      "execution_count": null,
      "outputs": []
    },
    {
      "cell_type": "markdown",
      "source": [
        "#1234(BEECROWD)"
      ],
      "metadata": {
        "id": "L3WRc6Z56NuJ"
      }
    },
    {
      "cell_type": "code",
      "source": [
        "while True:\n",
        "    try:\n",
        "        value = ''\n",
        "        main = input()\n",
        "        length = len(main)\n",
        "        count = 0\n",
        "        for i in range(length):\n",
        "            if main[i] ==' ':\n",
        "                value = value + main[i]\n",
        "                #print(value)\n",
        "            else:\n",
        "                if count ==0:\n",
        "                    value = value + main[i].upper()\n",
        "                    count= 1\n",
        "                else:\n",
        "                    value = value + main[i].lower()\n",
        "                    count = 0\n",
        "        print(value)\n",
        "    except EOFError:break"
      ],
      "metadata": {
        "id": "abCdVWC56QaC"
      },
      "execution_count": null,
      "outputs": []
    },
    {
      "cell_type": "markdown",
      "source": [
        "#2633(BEECROWD)"
      ],
      "metadata": {
        "id": "DKXfX_mD-bWd"
      }
    },
    {
      "cell_type": "code",
      "source": [
        "while True:\n",
        "    try:\n",
        "        number = int(input())\n",
        "        new = []\n",
        "        for i in range(number):\n",
        "            string1 = str(input()).split()\n",
        "            new.append([string1[0],int(string1[1])])\n",
        "        new.sort(key=lambda x: x[1])\n",
        "        for string1 in new:\n",
        "            print(string1[0], end='')\n",
        "            if string1[-1] != new[-1]: \n",
        "                print(end=' ')\n",
        "        print()\n",
        "    except EOFError: break"
      ],
      "metadata": {
        "colab": {
          "base_uri": "https://localhost:8080/"
        },
        "id": "uZuzbs4n-fDF",
        "outputId": "db48d34b-a262-48c5-fca4-c802142c5839"
      },
      "execution_count": null,
      "outputs": [
        {
          "output_type": "stream",
          "name": "stdout",
          "text": [
            "3\n",
            "picanha 15\n",
            "coracao 14\n",
            "maminha 37\n",
            "coracao picanha maminha \n",
            "4\n",
            "alcatra 17\n",
            "linguica 13\n",
            "asinha 5\n",
            "pernil 23\n",
            "asinha linguica alcatra pernil \n"
          ]
        }
      ]
    },
    {
      "cell_type": "markdown",
      "source": [
        "#2312(BEECROWD)"
      ],
      "metadata": {
        "id": "rZF5hrMZkfN2"
      }
    },
    {
      "cell_type": "code",
      "source": [
        "number = int(input())\n",
        "place = []\n",
        "for i in range(number):\n",
        "    new = []\n",
        "    strng = input().split()\n",
        "    #print(strng)\n",
        "    new.append(strng[0])\n",
        "    new.append(int(strng[1]))\n",
        "    new.append(int(strng[2]))\n",
        "    new.append(int(strng[3]))\n",
        "    place.append(new)\n",
        "    #print(place)\n",
        "place = sorted(sorted(place, key = lambda x: x[0]), key=lambda x: (x[1], x[2], x[3]), reverse = True)\n",
        "#print(place)\n",
        "for a,b,c,d in place:\n",
        "    print(a, b, c, d)\n"
      ],
      "metadata": {
        "colab": {
          "base_uri": "https://localhost:8080/"
        },
        "id": "DWSPr47xkd2j",
        "outputId": "397b7ba9-f477-40a9-d0c2-424ea1d5f9f0"
      },
      "execution_count": 8,
      "outputs": [
        {
          "output_type": "stream",
          "name": "stdout",
          "text": [
            "8\n",
            "Belgica 2 2 2\n",
            "Brasil 7 6 6\n",
            "Franca 10 18 14\n",
            "Italia 8 12 8\n",
            "Australia 8 11 10\n",
            "Colombia 3 2 3\n",
            "Suica 3 2 2\n",
            "Tailandia 2 2 2\n",
            "Franca 10 18 14\n",
            "Italia 8 12 8\n",
            "Australia 8 11 10\n",
            "Brasil 7 6 6\n",
            "Colombia 3 2 3\n",
            "Suica 3 2 2\n",
            "Belgica 2 2 2\n",
            "Tailandia 2 2 2\n"
          ]
        }
      ]
    },
    {
      "cell_type": "markdown",
      "source": [
        "#2508(BEECROWD)"
      ],
      "metadata": {
        "id": "xQvvm4Q72uhX"
      }
    },
    {
      "cell_type": "code",
      "source": [],
      "metadata": {
        "id": "FiJMN9zgUhYE"
      },
      "execution_count": null,
      "outputs": []
    }
  ]
}